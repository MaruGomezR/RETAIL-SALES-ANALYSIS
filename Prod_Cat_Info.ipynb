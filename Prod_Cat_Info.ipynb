{
 "cells": [
  {
   "cell_type": "markdown",
   "metadata": {},
   "source": [
    "##### Importar las librerias"
   ]
  },
  {
   "cell_type": "code",
   "execution_count": 1,
   "metadata": {},
   "outputs": [],
   "source": [
    "import pandas as pd\n",
    "from datetime import datetime"
   ]
  },
  {
   "cell_type": "markdown",
   "metadata": {},
   "source": [
    "##### Leer el archivo CSV usando pandas"
   ]
  },
  {
   "cell_type": "code",
   "execution_count": 2,
   "metadata": {},
   "outputs": [],
   "source": [
    "df_data = pd.read_csv('Prod_Cat_Info.csv')"
   ]
  },
  {
   "cell_type": "markdown",
   "metadata": {},
   "source": [
    "##### Mostrar las primera 5 filas del dataset"
   ]
  },
  {
   "cell_type": "code",
   "execution_count": 3,
   "metadata": {},
   "outputs": [
    {
     "data": {
      "text/html": [
       "<div>\n",
       "<style scoped>\n",
       "    .dataframe tbody tr th:only-of-type {\n",
       "        vertical-align: middle;\n",
       "    }\n",
       "\n",
       "    .dataframe tbody tr th {\n",
       "        vertical-align: top;\n",
       "    }\n",
       "\n",
       "    .dataframe thead th {\n",
       "        text-align: right;\n",
       "    }\n",
       "</style>\n",
       "<table border=\"1\" class=\"dataframe\">\n",
       "  <thead>\n",
       "    <tr style=\"text-align: right;\">\n",
       "      <th></th>\n",
       "      <th>prod_cat_code</th>\n",
       "      <th>prod_cat</th>\n",
       "      <th>prod_sub_cat_code</th>\n",
       "      <th>prod_subcat</th>\n",
       "    </tr>\n",
       "  </thead>\n",
       "  <tbody>\n",
       "    <tr>\n",
       "      <th>0</th>\n",
       "      <td>1</td>\n",
       "      <td>Clothing</td>\n",
       "      <td>4</td>\n",
       "      <td>Mens</td>\n",
       "    </tr>\n",
       "    <tr>\n",
       "      <th>1</th>\n",
       "      <td>1</td>\n",
       "      <td>Clothing</td>\n",
       "      <td>1</td>\n",
       "      <td>Women</td>\n",
       "    </tr>\n",
       "    <tr>\n",
       "      <th>2</th>\n",
       "      <td>1</td>\n",
       "      <td>Clothing</td>\n",
       "      <td>3</td>\n",
       "      <td>Kids</td>\n",
       "    </tr>\n",
       "    <tr>\n",
       "      <th>3</th>\n",
       "      <td>2</td>\n",
       "      <td>Footwear</td>\n",
       "      <td>1</td>\n",
       "      <td>Mens</td>\n",
       "    </tr>\n",
       "    <tr>\n",
       "      <th>4</th>\n",
       "      <td>2</td>\n",
       "      <td>Footwear</td>\n",
       "      <td>3</td>\n",
       "      <td>Women</td>\n",
       "    </tr>\n",
       "  </tbody>\n",
       "</table>\n",
       "</div>"
      ],
      "text/plain": [
       "   prod_cat_code  prod_cat  prod_sub_cat_code prod_subcat\n",
       "0              1  Clothing                  4        Mens\n",
       "1              1  Clothing                  1       Women\n",
       "2              1  Clothing                  3        Kids\n",
       "3              2  Footwear                  1        Mens\n",
       "4              2  Footwear                  3       Women"
      ]
     },
     "execution_count": 3,
     "metadata": {},
     "output_type": "execute_result"
    }
   ],
   "source": [
    "df_data.head()"
   ]
  },
  {
   "cell_type": "markdown",
   "metadata": {},
   "source": [
    "##### Examinar tamaño del dataset"
   ]
  },
  {
   "cell_type": "code",
   "execution_count": 5,
   "metadata": {},
   "outputs": [
    {
     "data": {
      "text/plain": [
       "(23, 4)"
      ]
     },
     "execution_count": 5,
     "metadata": {},
     "output_type": "execute_result"
    }
   ],
   "source": [
    "df_data.shape"
   ]
  },
  {
   "cell_type": "markdown",
   "metadata": {},
   "source": [
    "##### Verificar si hay valores nulos"
   ]
  },
  {
   "cell_type": "code",
   "execution_count": 4,
   "metadata": {},
   "outputs": [
    {
     "name": "stdout",
     "output_type": "stream",
     "text": [
      "Valores nulos por columna:\n",
      "prod_cat_code        0\n",
      "prod_cat             0\n",
      "prod_sub_cat_code    0\n",
      "prod_subcat          0\n",
      "dtype: int64\n"
     ]
    }
   ],
   "source": [
    "valores_nulos = df_data.isnull().sum()\n",
    "print(\"Valores nulos por columna:\")\n",
    "print(valores_nulos)"
   ]
  },
  {
   "cell_type": "code",
   "execution_count": 5,
   "metadata": {},
   "outputs": [
    {
     "name": "stdout",
     "output_type": "stream",
     "text": [
      "Total de filas duplicadas: 0\n"
     ]
    }
   ],
   "source": [
    "duplicados = df_data[df_data.duplicated()]\n",
    "print(\"Total de filas duplicadas:\", len(duplicados))"
   ]
  },
  {
   "cell_type": "markdown",
   "metadata": {},
   "source": [
    "##### Verificar la consistencia de los códigos de categorías y subcategorías"
   ]
  },
  {
   "cell_type": "code",
   "execution_count": 6,
   "metadata": {},
   "outputs": [
    {
     "name": "stdout",
     "output_type": "stream",
     "text": [
      "Categorías únicas:\n",
      "[1 2 3 4 5 6]\n",
      "Subcategorías únicas:\n",
      "[ 4  1  3  5  8  9 10  7 12 11  6  2]\n"
     ]
    }
   ],
   "source": [
    "categorias_unicas = df_data['prod_cat_code'].unique()\n",
    "subcategorias_unicas = df_data['prod_sub_cat_code'].unique()\n",
    "print(\"Categorías únicas:\")\n",
    "print(categorias_unicas)\n",
    "print(\"Subcategorías únicas:\")\n",
    "print(subcategorias_unicas)"
   ]
  },
  {
   "cell_type": "markdown",
   "metadata": {},
   "source": [
    "##### Crear un DataFrame con las combinaciones únicas de categorías y subcategorías"
   ]
  },
  {
   "cell_type": "code",
   "execution_count": 7,
   "metadata": {},
   "outputs": [],
   "source": [
    "combinaciones_unicas = df_data[['prod_cat_code', 'prod_sub_cat_code']].drop_duplicates()"
   ]
  },
  {
   "cell_type": "code",
   "execution_count": 8,
   "metadata": {},
   "outputs": [
    {
     "name": "stdout",
     "output_type": "stream",
     "text": [
      "Combinaciones únicas de categorías y subcategorías:\n",
      "    prod_cat_code  prod_sub_cat_code\n",
      "0               1                  4\n",
      "1               1                  1\n",
      "2               1                  3\n",
      "3               2                  1\n",
      "4               2                  3\n",
      "5               2                  4\n",
      "6               3                  4\n",
      "7               3                  5\n",
      "8               3                  8\n",
      "9               3                  9\n",
      "10              3                 10\n",
      "11              4                  1\n",
      "12              4                  4\n",
      "13              5                  7\n",
      "14              5                 12\n",
      "15              5                 10\n",
      "16              5                 11\n",
      "17              5                  3\n",
      "18              5                  6\n",
      "19              6                  2\n",
      "20              6                 10\n",
      "21              6                 11\n",
      "22              6                 12\n"
     ]
    }
   ],
   "source": [
    "print(\"Combinaciones únicas de categorías y subcategorías:\")\n",
    "print(combinaciones_unicas)"
   ]
  },
  {
   "cell_type": "markdown",
   "metadata": {},
   "source": [
    "##### Verificar la frecuencia de cada valor en 'prod_cat_code' y 'prod_sub_cat_code'"
   ]
  },
  {
   "cell_type": "code",
   "execution_count": 9,
   "metadata": {},
   "outputs": [
    {
     "name": "stdout",
     "output_type": "stream",
     "text": [
      "Frecuencia de categorías:\n",
      "prod_cat_code\n",
      "5    6\n",
      "3    5\n",
      "6    4\n",
      "1    3\n",
      "2    3\n",
      "4    2\n",
      "Name: count, dtype: int64\n",
      "Frecuencia de subcategorías:\n",
      "prod_sub_cat_code\n",
      "4     4\n",
      "1     3\n",
      "3     3\n",
      "10    3\n",
      "11    2\n",
      "12    2\n",
      "5     1\n",
      "8     1\n",
      "7     1\n",
      "9     1\n",
      "6     1\n",
      "2     1\n",
      "Name: count, dtype: int64\n"
     ]
    }
   ],
   "source": [
    "frecuencia_categorias = df_data['prod_cat_code'].value_counts()\n",
    "frecuencia_subcategorias = df_data['prod_sub_cat_code'].value_counts()\n",
    "\n",
    "print(\"Frecuencia de categorías:\")\n",
    "print(frecuencia_categorias)\n",
    "\n",
    "print(\"Frecuencia de subcategorías:\")\n",
    "print(frecuencia_subcategorias)\n"
   ]
  },
  {
   "cell_type": "markdown",
   "metadata": {},
   "source": [
    "##### Guardar el DataFrame transformado en un nuevo archivo CSV"
   ]
  },
  {
   "cell_type": "code",
   "execution_count": 10,
   "metadata": {},
   "outputs": [],
   "source": [
    "df_data.to_csv('Prod_Cat_Info_transformed.csv', index=False)"
   ]
  }
 ],
 "metadata": {
  "kernelspec": {
   "display_name": "Python 3",
   "language": "python",
   "name": "python3"
  },
  "language_info": {
   "codemirror_mode": {
    "name": "ipython",
    "version": 3
   },
   "file_extension": ".py",
   "mimetype": "text/x-python",
   "name": "python",
   "nbconvert_exporter": "python",
   "pygments_lexer": "ipython3",
   "version": "3.12.4"
  }
 },
 "nbformat": 4,
 "nbformat_minor": 2
}
