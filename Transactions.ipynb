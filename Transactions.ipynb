{
 "cells": [
  {
   "cell_type": "markdown",
   "metadata": {},
   "source": [
    "##### Importar las librerias"
   ]
  },
  {
   "cell_type": "code",
   "execution_count": 4,
   "metadata": {},
   "outputs": [],
   "source": [
    "import pandas as pd\n",
    "from datetime import datetime"
   ]
  },
  {
   "cell_type": "markdown",
   "metadata": {},
   "source": [
    "##### Leer el archivo CSV usando pandas"
   ]
  },
  {
   "cell_type": "code",
   "execution_count": 5,
   "metadata": {},
   "outputs": [],
   "source": [
    "data = pd.read_csv('Transactions.csv')"
   ]
  },
  {
   "cell_type": "markdown",
   "metadata": {},
   "source": [
    "##### Mostrar las primera 5 filas del dataset"
   ]
  },
  {
   "cell_type": "code",
   "execution_count": 6,
   "metadata": {},
   "outputs": [
    {
     "data": {
      "text/html": [
       "<div>\n",
       "<style scoped>\n",
       "    .dataframe tbody tr th:only-of-type {\n",
       "        vertical-align: middle;\n",
       "    }\n",
       "\n",
       "    .dataframe tbody tr th {\n",
       "        vertical-align: top;\n",
       "    }\n",
       "\n",
       "    .dataframe thead th {\n",
       "        text-align: right;\n",
       "    }\n",
       "</style>\n",
       "<table border=\"1\" class=\"dataframe\">\n",
       "  <thead>\n",
       "    <tr style=\"text-align: right;\">\n",
       "      <th></th>\n",
       "      <th>transaction_id</th>\n",
       "      <th>cust_id</th>\n",
       "      <th>tran_date</th>\n",
       "      <th>prod_subcat_code</th>\n",
       "      <th>prod_cat_code</th>\n",
       "      <th>Qty</th>\n",
       "      <th>Rate</th>\n",
       "      <th>Tax</th>\n",
       "      <th>total_amt</th>\n",
       "      <th>Store_type</th>\n",
       "    </tr>\n",
       "  </thead>\n",
       "  <tbody>\n",
       "    <tr>\n",
       "      <th>0</th>\n",
       "      <td>80712190438</td>\n",
       "      <td>270351</td>\n",
       "      <td>28-02-2014</td>\n",
       "      <td>1</td>\n",
       "      <td>1</td>\n",
       "      <td>-5</td>\n",
       "      <td>-772</td>\n",
       "      <td>405.300</td>\n",
       "      <td>-4265.300</td>\n",
       "      <td>e-Shop</td>\n",
       "    </tr>\n",
       "    <tr>\n",
       "      <th>1</th>\n",
       "      <td>29258453508</td>\n",
       "      <td>270384</td>\n",
       "      <td>27-02-2014</td>\n",
       "      <td>5</td>\n",
       "      <td>3</td>\n",
       "      <td>-5</td>\n",
       "      <td>-1497</td>\n",
       "      <td>785.925</td>\n",
       "      <td>-8270.925</td>\n",
       "      <td>e-Shop</td>\n",
       "    </tr>\n",
       "    <tr>\n",
       "      <th>2</th>\n",
       "      <td>51750724947</td>\n",
       "      <td>273420</td>\n",
       "      <td>24-02-2014</td>\n",
       "      <td>6</td>\n",
       "      <td>5</td>\n",
       "      <td>-2</td>\n",
       "      <td>-791</td>\n",
       "      <td>166.110</td>\n",
       "      <td>-1748.110</td>\n",
       "      <td>TeleShop</td>\n",
       "    </tr>\n",
       "    <tr>\n",
       "      <th>3</th>\n",
       "      <td>93274880719</td>\n",
       "      <td>271509</td>\n",
       "      <td>24-02-2014</td>\n",
       "      <td>11</td>\n",
       "      <td>6</td>\n",
       "      <td>-3</td>\n",
       "      <td>-1363</td>\n",
       "      <td>429.345</td>\n",
       "      <td>-4518.345</td>\n",
       "      <td>e-Shop</td>\n",
       "    </tr>\n",
       "    <tr>\n",
       "      <th>4</th>\n",
       "      <td>51750724947</td>\n",
       "      <td>273420</td>\n",
       "      <td>23-02-2014</td>\n",
       "      <td>6</td>\n",
       "      <td>5</td>\n",
       "      <td>-2</td>\n",
       "      <td>-791</td>\n",
       "      <td>166.110</td>\n",
       "      <td>-1748.110</td>\n",
       "      <td>TeleShop</td>\n",
       "    </tr>\n",
       "  </tbody>\n",
       "</table>\n",
       "</div>"
      ],
      "text/plain": [
       "   transaction_id  cust_id   tran_date  prod_subcat_code  prod_cat_code  Qty  \\\n",
       "0     80712190438   270351  28-02-2014                 1              1   -5   \n",
       "1     29258453508   270384  27-02-2014                 5              3   -5   \n",
       "2     51750724947   273420  24-02-2014                 6              5   -2   \n",
       "3     93274880719   271509  24-02-2014                11              6   -3   \n",
       "4     51750724947   273420  23-02-2014                 6              5   -2   \n",
       "\n",
       "   Rate      Tax  total_amt Store_type  \n",
       "0  -772  405.300  -4265.300     e-Shop  \n",
       "1 -1497  785.925  -8270.925     e-Shop  \n",
       "2  -791  166.110  -1748.110   TeleShop  \n",
       "3 -1363  429.345  -4518.345     e-Shop  \n",
       "4  -791  166.110  -1748.110   TeleShop  "
      ]
     },
     "execution_count": 6,
     "metadata": {},
     "output_type": "execute_result"
    }
   ],
   "source": [
    "data.head()"
   ]
  },
  {
   "cell_type": "code",
   "execution_count": 7,
   "metadata": {},
   "outputs": [
    {
     "name": "stdout",
     "output_type": "stream",
     "text": [
      "       transaction_id  cust_id   tran_date  prod_subcat_code  prod_cat_code  \\\n",
      "0         80712190438   270351  28-02-2014                 1              1   \n",
      "1         29258453508   270384  27-02-2014                 5              3   \n",
      "2         51750724947   273420  24-02-2014                 6              5   \n",
      "3         93274880719   271509  24-02-2014                11              6   \n",
      "4         51750724947   273420  23-02-2014                 6              5   \n",
      "...               ...      ...         ...               ...            ...   \n",
      "23048     94340757522   274550  25-01-2011                12              5   \n",
      "23049     89780862956   270022  25-01-2011                 4              1   \n",
      "23050     85115299378   271020  25-01-2011                 2              6   \n",
      "23051     72870271171   270911  25-01-2011                11              5   \n",
      "23052     77960931771   271961  25-01-2011                11              5   \n",
      "\n",
      "       Qty  Rate      Tax  total_amt Store_type  \n",
      "0       -5  -772  405.300  -4265.300     e-Shop  \n",
      "1       -5 -1497  785.925  -8270.925     e-Shop  \n",
      "2       -2  -791  166.110  -1748.110   TeleShop  \n",
      "3       -3 -1363  429.345  -4518.345     e-Shop  \n",
      "4       -2  -791  166.110  -1748.110   TeleShop  \n",
      "...    ...   ...      ...        ...        ...  \n",
      "23048    1  1264  132.720   1396.720     e-Shop  \n",
      "23049    1   677   71.085    748.085     e-Shop  \n",
      "23050    4  1052  441.840   4649.840        MBR  \n",
      "23051    3  1142  359.730   3785.730   TeleShop  \n",
      "23052    1   447   46.935    493.935   TeleShop  \n",
      "\n",
      "[23053 rows x 10 columns]\n"
     ]
    }
   ],
   "source": [
    "print(data)"
   ]
  },
  {
   "cell_type": "markdown",
   "metadata": {},
   "source": [
    "##### Examinar tamaño del dataset"
   ]
  },
  {
   "cell_type": "code",
   "execution_count": 8,
   "metadata": {},
   "outputs": [
    {
     "data": {
      "text/plain": [
       "(23053, 10)"
      ]
     },
     "execution_count": 8,
     "metadata": {},
     "output_type": "execute_result"
    }
   ],
   "source": [
    "data.shape"
   ]
  },
  {
   "cell_type": "code",
   "execution_count": 9,
   "metadata": {},
   "outputs": [
    {
     "name": "stdout",
     "output_type": "stream",
     "text": [
      "       transaction_id        cust_id  prod_subcat_code  prod_cat_code  \\\n",
      "count    2.305300e+04   23053.000000      23053.000000   23053.000000   \n",
      "mean     5.007348e+10  271021.746497          6.149091       3.763632   \n",
      "std      2.898194e+10    2431.692059          3.726372       1.677016   \n",
      "min      3.268991e+06  266783.000000          1.000000       1.000000   \n",
      "25%      2.493864e+10  268935.000000          3.000000       2.000000   \n",
      "50%      5.009313e+10  270980.000000          5.000000       4.000000   \n",
      "75%      7.533000e+10  273114.000000         10.000000       5.000000   \n",
      "max      9.998755e+10  275265.000000         12.000000       6.000000   \n",
      "\n",
      "                Qty          Rate           Tax     total_amt  \n",
      "count  23053.000000  23053.000000  23053.000000  23053.000000  \n",
      "mean       2.432395    636.369713    248.667192   2107.308002  \n",
      "std        2.268406    622.363498    187.177773   2507.561264  \n",
      "min       -5.000000  -1499.000000      7.350000  -8270.925000  \n",
      "25%        1.000000    312.000000     98.280000    762.450000  \n",
      "50%        3.000000    710.000000    199.080000   1754.740000  \n",
      "75%        4.000000   1109.000000    365.715000   3569.150000  \n",
      "max        5.000000   1500.000000    787.500000   8287.500000  \n"
     ]
    }
   ],
   "source": [
    "print(data.describe())"
   ]
  },
  {
   "cell_type": "markdown",
   "metadata": {},
   "source": [
    "##### Verificar el nombre correcto de las columnas"
   ]
  },
  {
   "cell_type": "code",
   "execution_count": 10,
   "metadata": {},
   "outputs": [
    {
     "name": "stdout",
     "output_type": "stream",
     "text": [
      "Index(['transaction_id', 'cust_id', 'tran_date', 'prod_subcat_code',\n",
      "       'prod_cat_code', 'Qty', 'Rate', 'Tax', 'total_amt', 'Store_type'],\n",
      "      dtype='object')\n"
     ]
    }
   ],
   "source": [
    "print(data.columns)"
   ]
  },
  {
   "cell_type": "markdown",
   "metadata": {},
   "source": [
    "##### Averiguar cuantos valores negativos hay en las columnas de interés "
   ]
  },
  {
   "cell_type": "markdown",
   "metadata": {},
   "source": [
    "##### valores negativos en 'Qty'"
   ]
  },
  {
   "cell_type": "code",
   "execution_count": 11,
   "metadata": {},
   "outputs": [],
   "source": [
    "negativos_qty = data[data['Qty'] < 0].shape[0]"
   ]
  },
  {
   "cell_type": "code",
   "execution_count": 12,
   "metadata": {},
   "outputs": [
    {
     "name": "stdout",
     "output_type": "stream",
     "text": [
      "Número de filas con valores negativos en 'Qty': 2177\n"
     ]
    }
   ],
   "source": [
    "print(f\"Número de filas con valores negativos en 'Qty': {negativos_qty}\")"
   ]
  },
  {
   "cell_type": "markdown",
   "metadata": {},
   "source": [
    "##### valores negativos en 'Rate'"
   ]
  },
  {
   "cell_type": "code",
   "execution_count": 13,
   "metadata": {},
   "outputs": [],
   "source": [
    "negativos_rate = data[data['Rate'] < 0].shape[0]"
   ]
  },
  {
   "cell_type": "code",
   "execution_count": 14,
   "metadata": {},
   "outputs": [
    {
     "name": "stdout",
     "output_type": "stream",
     "text": [
      "Número de filas con valores negativos en 'Rate': 2177\n"
     ]
    }
   ],
   "source": [
    "print(f\"Número de filas con valores negativos en 'Rate': {negativos_rate}\")"
   ]
  },
  {
   "cell_type": "markdown",
   "metadata": {},
   "source": [
    "##### valores negativos en 'tax'"
   ]
  },
  {
   "cell_type": "code",
   "execution_count": 15,
   "metadata": {},
   "outputs": [],
   "source": [
    "negativos_tax = data[data['Tax'] < 0].shape[0]"
   ]
  },
  {
   "cell_type": "code",
   "execution_count": 16,
   "metadata": {},
   "outputs": [
    {
     "name": "stdout",
     "output_type": "stream",
     "text": [
      "Número de filas con valores negativos en 'Tax': 0\n"
     ]
    }
   ],
   "source": [
    "print(f\"Número de filas con valores negativos en 'Tax': {negativos_tax}\")"
   ]
  },
  {
   "cell_type": "markdown",
   "metadata": {},
   "source": [
    "##### valores negativos en 'total_amt'"
   ]
  },
  {
   "cell_type": "code",
   "execution_count": 17,
   "metadata": {},
   "outputs": [],
   "source": [
    "negativos_total_amt = data[data['total_amt'] < 0].shape[0]"
   ]
  },
  {
   "cell_type": "code",
   "execution_count": 18,
   "metadata": {},
   "outputs": [
    {
     "name": "stdout",
     "output_type": "stream",
     "text": [
      "Número de filas con valores negativos en 'total_amt': 2177\n"
     ]
    }
   ],
   "source": [
    "print(f\"Número de filas con valores negativos en 'total_amt': {negativos_total_amt}\")"
   ]
  },
  {
   "cell_type": "markdown",
   "metadata": {},
   "source": [
    "##### Vemos si hay valores nulos"
   ]
  },
  {
   "cell_type": "code",
   "execution_count": 48,
   "metadata": {},
   "outputs": [
    {
     "name": "stdout",
     "output_type": "stream",
     "text": [
      "Valores nulos por columna:\n",
      "transaction_id      0\n",
      "cust_id             0\n",
      "tran_date           0\n",
      "prod_subcat_code    0\n",
      "prod_cat_code       0\n",
      "Qty                 0\n",
      "Rate                0\n",
      "Tax                 0\n",
      "total_amt           0\n",
      "Store_type          0\n",
      "dtype: int64\n"
     ]
    }
   ],
   "source": [
    "valores_nulos = data.isnull().sum()\n",
    "print(\"Valores nulos por columna:\")\n",
    "print(valores_nulos)"
   ]
  },
  {
   "cell_type": "markdown",
   "metadata": {},
   "source": [
    "##### Buscamos filas duplicadas"
   ]
  },
  {
   "cell_type": "markdown",
   "metadata": {},
   "source": [
    "#### Paso 1: Identificar filas duplicadas"
   ]
  },
  {
   "cell_type": "code",
   "execution_count": 30,
   "metadata": {},
   "outputs": [],
   "source": [
    "duplicados = data[data.duplicated()]"
   ]
  },
  {
   "cell_type": "markdown",
   "metadata": {},
   "source": [
    "##### Paso 2: Mostrar el total de filas duplicadas"
   ]
  },
  {
   "cell_type": "code",
   "execution_count": 37,
   "metadata": {},
   "outputs": [
    {
     "name": "stdout",
     "output_type": "stream",
     "text": [
      "Total de filas duplicadas: 13\n"
     ]
    }
   ],
   "source": [
    "print(\"Total de filas duplicadas:\", len(duplicados))"
   ]
  },
  {
   "cell_type": "markdown",
   "metadata": {},
   "source": [
    "##### Paso 3: Mostrar las filas duplicadas"
   ]
  },
  {
   "cell_type": "code",
   "execution_count": 38,
   "metadata": {},
   "outputs": [
    {
     "name": "stdout",
     "output_type": "stream",
     "text": [
      "Filas duplicadas:\n",
      "       transaction_id  cust_id   tran_date  prod_subcat_code  prod_cat_code  \\\n",
      "3237      63833750229   269016  19-09-2013                10              6   \n",
      "4513      54818572958   274656  19-07-2013                11              6   \n",
      "9748      93088859112   272584   4/11/2012                 1              2   \n",
      "10016     48727689115   270330  21-10-2012                 4              3   \n",
      "10785     95523406151   273937  16-09-2012                 8              3   \n",
      "11251     42255136382   270202  25-08-2012                12              5   \n",
      "12967       426787191   273106  28-05-2012                 1              2   \n",
      "13713     68625357665   270229  24-04-2012                12              6   \n",
      "13770     84298959416   268663  22-04-2012                 3              5   \n",
      "16269      4170892941   266852  21-12-2011                 8              3   \n",
      "16315     44125492691   274748  19-12-2011                 3              2   \n",
      "19869     43292728137   267939    3/7/2011                 4              4   \n",
      "19962     98271941861   267939  29-06-2011                10              5   \n",
      "\n",
      "       Qty  Rate      Tax  total_amt      Store_type  \n",
      "3237    -3  -460  144.900  -1524.900        TeleShop  \n",
      "4513    -5  -662  347.550  -3657.550          e-Shop  \n",
      "9748    -1 -1168  122.640  -1290.640          e-Shop  \n",
      "10016   -4 -1158  486.360  -5118.360        TeleShop  \n",
      "10785   -5  -483  253.575  -2668.575          e-Shop  \n",
      "11251   -4  -841  353.220  -3717.220          e-Shop  \n",
      "12967   -5  -109   57.225   -602.225          e-Shop  \n",
      "13713   -5   -79   41.475   -436.475  Flagship store  \n",
      "13770   -2  -321   67.410   -709.410        TeleShop  \n",
      "16269   -1  -412   43.260   -455.260             MBR  \n",
      "16315   -5  -767  402.675  -4237.675          e-Shop  \n",
      "19869   -2  -739  155.190  -1633.190          e-Shop  \n",
      "19962   -4 -1238  519.960  -5471.960  Flagship store  \n"
     ]
    }
   ],
   "source": [
    "print(\"Filas duplicadas:\")\n",
    "print(duplicados)"
   ]
  },
  {
   "cell_type": "markdown",
   "metadata": {},
   "source": [
    "##### Paso 4: Eliminar filas duplicadas"
   ]
  },
  {
   "cell_type": "code",
   "execution_count": 39,
   "metadata": {},
   "outputs": [],
   "source": [
    "data_sin_duplicados = data.drop_duplicates()\n"
   ]
  },
  {
   "cell_type": "markdown",
   "metadata": {},
   "source": [
    "##### Paso 5: Mostrar el total de filas después de eliminar duplicados"
   ]
  },
  {
   "cell_type": "code",
   "execution_count": 41,
   "metadata": {},
   "outputs": [
    {
     "name": "stdout",
     "output_type": "stream",
     "text": [
      "Total de filas después de eliminar duplicados: 23040\n"
     ]
    }
   ],
   "source": [
    "print(\"Total de filas después de eliminar duplicados:\", len(data_sin_duplicados))"
   ]
  },
  {
   "cell_type": "markdown",
   "metadata": {},
   "source": [
    "##### Verificar nuevamente si hay duplicados en el DataFrame después de eliminarlos"
   ]
  },
  {
   "cell_type": "code",
   "execution_count": 42,
   "metadata": {},
   "outputs": [],
   "source": [
    "\n",
    "duplicados = data_ajustado_sin_duplicados[data_ajustado_sin_duplicados.duplicated()]\n",
    "\n"
   ]
  },
  {
   "cell_type": "markdown",
   "metadata": {},
   "source": [
    "##### Mostrar el total de filas duplicadas"
   ]
  },
  {
   "cell_type": "code",
   "execution_count": 43,
   "metadata": {},
   "outputs": [
    {
     "name": "stdout",
     "output_type": "stream",
     "text": [
      "Total de filas duplicadas: 0\n"
     ]
    }
   ],
   "source": [
    "\n",
    "print(\"Total de filas duplicadas:\", len(duplicados))"
   ]
  },
  {
   "cell_type": "markdown",
   "metadata": {},
   "source": [
    "##### Convertir la columna 'tran_date' a tipo de dato fecha, infiriendo el formato"
   ]
  },
  {
   "cell_type": "code",
   "execution_count": 45,
   "metadata": {},
   "outputs": [],
   "source": [
    "data['tran_date'] = pd.to_datetime(data['tran_date'], dayfirst=True, errors='coerce')"
   ]
  },
  {
   "cell_type": "markdown",
   "metadata": {},
   "source": [
    "##### Verificar si hay fechas que no se pudieron convertir"
   ]
  },
  {
   "cell_type": "code",
   "execution_count": 46,
   "metadata": {},
   "outputs": [
    {
     "name": "stdout",
     "output_type": "stream",
     "text": [
      "Fechas inválidas:\n",
      "       transaction_id  cust_id tran_date  prod_subcat_code  prod_cat_code  \\\n",
      "144       12323853707   273552       NaT                12              6   \n",
      "145       60596009595   274652       NaT                12              5   \n",
      "146       17146707816   274897       NaT                12              5   \n",
      "147       36792372906   275246       NaT                 2              6   \n",
      "148       38821078489   267025       NaT                10              6   \n",
      "...               ...      ...       ...               ...            ...   \n",
      "22907     80348907828   267124       NaT                 5              3   \n",
      "22908     83849473598   269958       NaT                12              5   \n",
      "22909     95376486237   269403       NaT                 4              3   \n",
      "22910     81365620177   274222       NaT                 3              2   \n",
      "22911     85848725285   271131       NaT                 1              4   \n",
      "\n",
      "       Qty  Rate      Tax  total_amt Store_type  \n",
      "144      4   510  214.200   2254.200   TeleShop  \n",
      "145      4   183   76.860    808.860        MBR  \n",
      "146      3   622  195.930   2061.930        MBR  \n",
      "147      1  1185  124.425   1309.425     e-Shop  \n",
      "148      4   933  391.860   4123.860     e-Shop  \n",
      "...    ...   ...      ...        ...        ...  \n",
      "22907    2   552  115.920   1219.920   TeleShop  \n",
      "22908    3   403  126.945   1335.945     e-Shop  \n",
      "22909    5   673  353.325   3718.325        MBR  \n",
      "22910    3   373  117.495   1236.495     e-Shop  \n",
      "22911    5  1043  547.575   5762.575     e-Shop  \n",
      "\n",
      "[9124 rows x 10 columns]\n"
     ]
    }
   ],
   "source": [
    "fechas_invalidas = data[data['tran_date'].isna()]\n",
    "print(\"Fechas inválidas:\")\n",
    "print(fechas_invalidas)"
   ]
  },
  {
   "cell_type": "markdown",
   "metadata": {},
   "source": [
    "##### Eliminar filas con fechas inválidas"
   ]
  },
  {
   "cell_type": "code",
   "execution_count": 47,
   "metadata": {},
   "outputs": [],
   "source": [
    "data = data.dropna(subset=['tran_date'])"
   ]
  },
  {
   "cell_type": "markdown",
   "metadata": {},
   "source": [
    "##### para continuar el análisis, vamos a eliminar las filas donde haya valores negativos en las columnas Qty y Rate. Esto se hace por no tener mas informacion sobre el dataset que explique la presencia de valores negativos"
   ]
  },
  {
   "cell_type": "markdown",
   "metadata": {},
   "source": [
    "##### Eliminar filas donde 'Qty' es negativo"
   ]
  },
  {
   "cell_type": "code",
   "execution_count": 49,
   "metadata": {},
   "outputs": [],
   "source": [
    "data = data[data['Qty'] >= 0]"
   ]
  },
  {
   "cell_type": "markdown",
   "metadata": {},
   "source": [
    "##### Eliminar filas donde 'Rate' es negativo"
   ]
  },
  {
   "cell_type": "code",
   "execution_count": 50,
   "metadata": {},
   "outputs": [],
   "source": [
    "data = data[data['Rate'] >= 0]"
   ]
  },
  {
   "cell_type": "markdown",
   "metadata": {},
   "source": [
    "##### Imprimimos data"
   ]
  },
  {
   "cell_type": "code",
   "execution_count": 51,
   "metadata": {},
   "outputs": [
    {
     "name": "stdout",
     "output_type": "stream",
     "text": [
      "       transaction_id  cust_id  tran_date  prod_subcat_code  prod_cat_code  \\\n",
      "10        29258453508   270384 2014-02-20                 5              3   \n",
      "11        25455265351   267750 2014-02-20                12              6   \n",
      "12         1571002198   275023 2014-02-20                 6              5   \n",
      "14        36554696014   269345 2014-02-20                 3              5   \n",
      "15        56814940239   268799 2014-02-20                 7              5   \n",
      "...               ...      ...        ...               ...            ...   \n",
      "23048     94340757522   274550 2011-01-25                12              5   \n",
      "23049     89780862956   270022 2011-01-25                 4              1   \n",
      "23050     85115299378   271020 2011-01-25                 2              6   \n",
      "23051     72870271171   270911 2011-01-25                11              5   \n",
      "23052     77960931771   271961 2011-01-25                11              5   \n",
      "\n",
      "       Qty  Rate      Tax  total_amt Store_type  \n",
      "10       5  1497  785.925   8270.925     e-Shop  \n",
      "11       3  1360  428.400   4508.400     e-Shop  \n",
      "12       4   587  246.540   2594.540     e-Shop  \n",
      "14       3  1253  394.695   4153.695     e-Shop  \n",
      "15       5   368  193.200   2033.200     e-Shop  \n",
      "...    ...   ...      ...        ...        ...  \n",
      "23048    1  1264  132.720   1396.720     e-Shop  \n",
      "23049    1   677   71.085    748.085     e-Shop  \n",
      "23050    4  1052  441.840   4649.840        MBR  \n",
      "23051    3  1142  359.730   3785.730   TeleShop  \n",
      "23052    1   447   46.935    493.935   TeleShop  \n",
      "\n",
      "[12595 rows x 10 columns]\n"
     ]
    }
   ],
   "source": [
    "print(data)"
   ]
  },
  {
   "cell_type": "markdown",
   "metadata": {},
   "source": [
    "##### Crear una nueva columna basada en datos existentes.  Esta columna se llamará 'total' y se crea multiplicando la columna Qty (cantidad de productos) por la columna Rate (recio unitario). Esto da el total de los productos comprados en la transacción, sin incluir impuestos"
   ]
  },
  {
   "cell_type": "code",
   "execution_count": 53,
   "metadata": {},
   "outputs": [],
   "source": [
    "data['total'] = data['Qty'] * data['Rate']"
   ]
  },
  {
   "cell_type": "markdown",
   "metadata": {},
   "source": [
    "##### Verificar si la columna 'total' se creó correctamente"
   ]
  },
  {
   "cell_type": "code",
   "execution_count": 54,
   "metadata": {},
   "outputs": [
    {
     "name": "stdout",
     "output_type": "stream",
     "text": [
      "La columna 'total' se creó correctamente.\n"
     ]
    }
   ],
   "source": [
    "if 'total' in data.columns:\n",
    "    print(\"La columna 'total' se creó correctamente.\")\n",
    "else:\n",
    "    print(\"Error: La columna 'total' no se creó.\")\n"
   ]
  },
  {
   "cell_type": "markdown",
   "metadata": {},
   "source": [
    "##### Normalización de la columna 'total' usando Min-Max Scaling"
   ]
  },
  {
   "cell_type": "code",
   "execution_count": 55,
   "metadata": {},
   "outputs": [],
   "source": [
    "data['total_normalized'] = (data['total'] - data['total'].min()) / (data['total'].max() - data['total'].min())"
   ]
  },
  {
   "cell_type": "markdown",
   "metadata": {},
   "source": [
    "##### Mostrar el DataFrame transformado"
   ]
  },
  {
   "cell_type": "code",
   "execution_count": 57,
   "metadata": {},
   "outputs": [
    {
     "name": "stdout",
     "output_type": "stream",
     "text": [
      "       transaction_id  cust_id  tran_date  prod_subcat_code  prod_cat_code  \\\n",
      "10        29258453508   270384 2014-02-20                 5              3   \n",
      "11        25455265351   267750 2014-02-20                12              6   \n",
      "12         1571002198   275023 2014-02-20                 6              5   \n",
      "14        36554696014   269345 2014-02-20                 3              5   \n",
      "15        56814940239   268799 2014-02-20                 7              5   \n",
      "...               ...      ...        ...               ...            ...   \n",
      "23048     94340757522   274550 2011-01-25                12              5   \n",
      "23049     89780862956   270022 2011-01-25                 4              1   \n",
      "23050     85115299378   271020 2011-01-25                 2              6   \n",
      "23051     72870271171   270911 2011-01-25                11              5   \n",
      "23052     77960931771   271961 2011-01-25                11              5   \n",
      "\n",
      "       Qty  Rate      Tax  total_amt Store_type  total  total_normalized  \n",
      "10       5  1497  785.925   8270.925     e-Shop   7485          0.997981  \n",
      "11       3  1360  428.400   4508.400     e-Shop   4080          0.539704  \n",
      "12       4   587  246.540   2594.540     e-Shop   2348          0.306595  \n",
      "14       3  1253  394.695   4153.695     e-Shop   3759          0.496501  \n",
      "15       5   368  193.200   2033.200     e-Shop   1840          0.238223  \n",
      "...    ...   ...      ...        ...        ...    ...               ...  \n",
      "23048    1  1264  132.720   1396.720     e-Shop   1264          0.160700  \n",
      "23049    1   677   71.085    748.085     e-Shop    677          0.081696  \n",
      "23050    4  1052  441.840   4649.840        MBR   4208          0.556931  \n",
      "23051    3  1142  359.730   3785.730   TeleShop   3426          0.451682  \n",
      "23052    1   447   46.935    493.935   TeleShop    447          0.050740  \n",
      "\n",
      "[12595 rows x 12 columns]\n"
     ]
    }
   ],
   "source": [
    "print(data)"
   ]
  },
  {
   "cell_type": "markdown",
   "metadata": {},
   "source": [
    "##### Guardar el DataFrame transformado en un nuevo archivo CSV"
   ]
  },
  {
   "cell_type": "code",
   "execution_count": 58,
   "metadata": {},
   "outputs": [],
   "source": [
    "data.to_csv('Transactions_transformed.csv', index=False)"
   ]
  }
 ],
 "metadata": {
  "kernelspec": {
   "display_name": "Python 3",
   "language": "python",
   "name": "python3"
  },
  "language_info": {
   "codemirror_mode": {
    "name": "ipython",
    "version": 3
   },
   "file_extension": ".py",
   "mimetype": "text/x-python",
   "name": "python",
   "nbconvert_exporter": "python",
   "pygments_lexer": "ipython3",
   "version": "3.12.4"
  }
 },
 "nbformat": 4,
 "nbformat_minor": 2
}
